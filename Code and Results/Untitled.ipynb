{
 "cells": [
  {
   "cell_type": "code",
   "execution_count": 1,
   "id": "ff57c35d-0d38-4a0a-ad75-f53493d9e91f",
   "metadata": {},
   "outputs": [],
   "source": [
    "import numpy as np\n",
    "import pandas as pd"
   ]
  },
  {
   "cell_type": "code",
   "execution_count": 7,
   "id": "6b808128-e20d-4bae-976b-22a64494e012",
   "metadata": {},
   "outputs": [
    {
     "data": {
      "text/html": [
       "<div>\n",
       "<style scoped>\n",
       "    .dataframe tbody tr th:only-of-type {\n",
       "        vertical-align: middle;\n",
       "    }\n",
       "\n",
       "    .dataframe tbody tr th {\n",
       "        vertical-align: top;\n",
       "    }\n",
       "\n",
       "    .dataframe thead th {\n",
       "        text-align: right;\n",
       "    }\n",
       "</style>\n",
       "<table border=\"1\" class=\"dataframe\">\n",
       "  <thead>\n",
       "    <tr style=\"text-align: right;\">\n",
       "      <th></th>\n",
       "      <th>Object Counting question</th>\n",
       "      <th>Correct Answer:</th>\n",
       "      <th>Deepseek1.5 Answer</th>\n",
       "      <th>DeepSeek 1.5 Correct (Yes/No)</th>\n",
       "      <th>Deepseek8 Answer</th>\n",
       "      <th>Deepseek8  Correct(Yes/No)</th>\n",
       "      <th>Gemma1 Answer</th>\n",
       "      <th>Gemma1 Correct(Yes/No)</th>\n",
       "      <th>Gemma4 Answer</th>\n",
       "      <th>Gemma4 Correct(Yes/No)</th>\n",
       "      <th>Llama3.2 Answer</th>\n",
       "      <th>Llama3.2 Correct(Yes/No)</th>\n",
       "      <th>Llama3.1 Answer</th>\n",
       "      <th>Llama3.1 Correct(Yes/No)</th>\n",
       "    </tr>\n",
       "  </thead>\n",
       "  <tbody>\n",
       "    <tr>\n",
       "      <th>0</th>\n",
       "      <td>I have a flute, a piano, a trombone, four stov...</td>\n",
       "      <td>8</td>\n",
       "      <td>&lt;think&gt;\\nOkay, so I need to figure out how man...</td>\n",
       "      <td>No</td>\n",
       "      <td>&lt;think&gt;\\nFirst, I'll list out all the musical ...</td>\n",
       "      <td>Yes</td>\n",
       "      <td>Let's count them up:\\n\\n\\n* Flute\\n* Piano\\n* ...</td>\n",
       "      <td>Yes</td>\n",
       "      <td>Let's count the musical instruments:\\n\\n\\n* Fl...</td>\n",
       "      <td>Yes</td>\n",
       "      <td>You have 9 musical instruments:\\n\\n\\n1. Flute\\...</td>\n",
       "      <td>No</td>\n",
       "      <td>There are seven musical instruments in this co...</td>\n",
       "      <td>No</td>\n",
       "    </tr>\n",
       "    <tr>\n",
       "      <th>1</th>\n",
       "      <td>I have an apple, three bananas, a strawberry, ...</td>\n",
       "      <td>15</td>\n",
       "      <td>&lt;think&gt;\\nOkay, so the user provided a list of ...</td>\n",
       "      <td>Yes</td>\n",
       "      <td>&lt;think&gt;\\nFirst, I'll list all the fruits provi...</td>\n",
       "      <td>No</td>\n",
       "      <td>Let's count them up!\\n\\n\\n* Apple: 1\\n* Banana...</td>\n",
       "      <td>No</td>\n",
       "      <td>Let's count them up:\\n\\n\\n* Apple: 1\\n* Banana...</td>\n",
       "      <td>No</td>\n",
       "      <td>To find the total number of fruits you have, w...</td>\n",
       "      <td>No</td>\n",
       "      <td>Let's count the number of different types of f...</td>\n",
       "      <td>No</td>\n",
       "    </tr>\n",
       "    <tr>\n",
       "      <th>2</th>\n",
       "      <td>I have a fridge, a chair, and a microwave. How...</td>\n",
       "      <td>3</td>\n",
       "      <td>&lt;think&gt;\\nOkay, so the user has provided a quer...</td>\n",
       "      <td>No</td>\n",
       "      <td>&lt;think&gt;\\nI need to determine the total number ...</td>\n",
       "      <td>Yes</td>\n",
       "      <td>Okay, let's count them! You have 3 objects:\\n\\...</td>\n",
       "      <td>Yes</td>\n",
       "      <td>You have 3 objects. \\n\\n\\nLet me know if you w...</td>\n",
       "      <td>Yes</td>\n",
       "      <td>Let's count the objects:\\n\\n\\n1. Fridge\\n2. Ch...</td>\n",
       "      <td>Yes</td>\n",
       "      <td>There are 3 objects.\\n\\n\\nYou mentioned a \"fri...</td>\n",
       "      <td>Yes</td>\n",
       "    </tr>\n",
       "    <tr>\n",
       "      <th>3</th>\n",
       "      <td>I have three blackberries, two strawberries, a...</td>\n",
       "      <td>14</td>\n",
       "      <td>&lt;think&gt;\\nOkay, let's try to figure out how man...</td>\n",
       "      <td>Yes</td>\n",
       "      <td>&lt;think&gt;\\nFirst, I will list all the fruits pro...</td>\n",
       "      <td>No</td>\n",
       "      <td>Let's count them up!\\n\\n\\n* Blackberries: 3\\n*...</td>\n",
       "      <td>Yes</td>\n",
       "      <td>Let's count the fruits:\\n\\n\\n* Blackberries: 3...</td>\n",
       "      <td>Yes</td>\n",
       "      <td>To find the total number of fruits you have, l...</td>\n",
       "      <td>Yes</td>\n",
       "      <td>To find the total number of fruits you have, c...</td>\n",
       "      <td>Yes</td>\n",
       "    </tr>\n",
       "    <tr>\n",
       "      <th>4</th>\n",
       "      <td>I have a couch, an oven, two microwaves, and a...</td>\n",
       "      <td>5</td>\n",
       "      <td>&lt;think&gt;\\nOkay, so the user has mentioned havin...</td>\n",
       "      <td>No</td>\n",
       "      <td>&lt;think&gt;\\nOkay, so I need to figure out how man...</td>\n",
       "      <td>Yes</td>\n",
       "      <td>Let’s count them!\\n\\n\\n* 1 couch\\n* 1 oven\\n* ...</td>\n",
       "      <td>No</td>\n",
       "      <td>You have 5 objects. \\n\\n\\nLet's count them:\\n\\...</td>\n",
       "      <td>Yes</td>\n",
       "      <td>Let's count the objects:\\n\\n\\n1. Couch\\n2. Ove...</td>\n",
       "      <td>Yes</td>\n",
       "      <td>Let's count the objects:\\n\\n\\n* You have 1 cou...</td>\n",
       "      <td>Yes</td>\n",
       "    </tr>\n",
       "  </tbody>\n",
       "</table>\n",
       "</div>"
      ],
      "text/plain": [
       "                            Object Counting question  Correct Answer:  \\\n",
       "0  I have a flute, a piano, a trombone, four stov...                8   \n",
       "1  I have an apple, three bananas, a strawberry, ...               15   \n",
       "2  I have a fridge, a chair, and a microwave. How...                3   \n",
       "3  I have three blackberries, two strawberries, a...               14   \n",
       "4  I have a couch, an oven, two microwaves, and a...                5   \n",
       "\n",
       "                                  Deepseek1.5 Answer  \\\n",
       "0  <think>\\nOkay, so I need to figure out how man...   \n",
       "1  <think>\\nOkay, so the user provided a list of ...   \n",
       "2  <think>\\nOkay, so the user has provided a quer...   \n",
       "3  <think>\\nOkay, let's try to figure out how man...   \n",
       "4  <think>\\nOkay, so the user has mentioned havin...   \n",
       "\n",
       "  DeepSeek 1.5 Correct (Yes/No)  \\\n",
       "0                            No   \n",
       "1                           Yes   \n",
       "2                            No   \n",
       "3                           Yes   \n",
       "4                            No   \n",
       "\n",
       "                                    Deepseek8 Answer  \\\n",
       "0  <think>\\nFirst, I'll list out all the musical ...   \n",
       "1  <think>\\nFirst, I'll list all the fruits provi...   \n",
       "2  <think>\\nI need to determine the total number ...   \n",
       "3  <think>\\nFirst, I will list all the fruits pro...   \n",
       "4  <think>\\nOkay, so I need to figure out how man...   \n",
       "\n",
       "  Deepseek8  Correct(Yes/No)  \\\n",
       "0                        Yes   \n",
       "1                         No   \n",
       "2                        Yes   \n",
       "3                         No   \n",
       "4                        Yes   \n",
       "\n",
       "                                       Gemma1 Answer Gemma1 Correct(Yes/No)  \\\n",
       "0  Let's count them up:\\n\\n\\n* Flute\\n* Piano\\n* ...                    Yes   \n",
       "1  Let's count them up!\\n\\n\\n* Apple: 1\\n* Banana...                     No   \n",
       "2  Okay, let's count them! You have 3 objects:\\n\\...                    Yes   \n",
       "3  Let's count them up!\\n\\n\\n* Blackberries: 3\\n*...                    Yes   \n",
       "4  Let’s count them!\\n\\n\\n* 1 couch\\n* 1 oven\\n* ...                     No   \n",
       "\n",
       "                                       Gemma4 Answer Gemma4 Correct(Yes/No)  \\\n",
       "0  Let's count the musical instruments:\\n\\n\\n* Fl...                    Yes   \n",
       "1  Let's count them up:\\n\\n\\n* Apple: 1\\n* Banana...                     No   \n",
       "2  You have 3 objects. \\n\\n\\nLet me know if you w...                    Yes   \n",
       "3  Let's count the fruits:\\n\\n\\n* Blackberries: 3...                    Yes   \n",
       "4  You have 5 objects. \\n\\n\\nLet's count them:\\n\\...                    Yes   \n",
       "\n",
       "                                     Llama3.2 Answer Llama3.2 Correct(Yes/No)  \\\n",
       "0  You have 9 musical instruments:\\n\\n\\n1. Flute\\...                       No   \n",
       "1  To find the total number of fruits you have, w...                       No   \n",
       "2  Let's count the objects:\\n\\n\\n1. Fridge\\n2. Ch...                      Yes   \n",
       "3  To find the total number of fruits you have, l...                      Yes   \n",
       "4  Let's count the objects:\\n\\n\\n1. Couch\\n2. Ove...                      Yes   \n",
       "\n",
       "                                     Llama3.1 Answer Llama3.1 Correct(Yes/No)  \n",
       "0  There are seven musical instruments in this co...                       No  \n",
       "1  Let's count the number of different types of f...                       No  \n",
       "2  There are 3 objects.\\n\\n\\nYou mentioned a \"fri...                      Yes  \n",
       "3  To find the total number of fruits you have, c...                      Yes  \n",
       "4  Let's count the objects:\\n\\n\\n* You have 1 cou...                      Yes  "
      ]
     },
     "execution_count": 7,
     "metadata": {},
     "output_type": "execute_result"
    }
   ],
   "source": [
    "df=pd.read_excel('LLM Responses.xlsx',sheet_name='Counting')\n",
    "df.head()"
   ]
  },
  {
   "cell_type": "code",
   "execution_count": 51,
   "id": "fb372abd-50c9-49d5-8864-e938d4abfe54",
   "metadata": {},
   "outputs": [
    {
     "data": {
      "text/html": [
       "<div>\n",
       "<style scoped>\n",
       "    .dataframe tbody tr th:only-of-type {\n",
       "        vertical-align: middle;\n",
       "    }\n",
       "\n",
       "    .dataframe tbody tr th {\n",
       "        vertical-align: top;\n",
       "    }\n",
       "\n",
       "    .dataframe thead th {\n",
       "        text-align: right;\n",
       "    }\n",
       "</style>\n",
       "<table border=\"1\" class=\"dataframe\">\n",
       "  <thead>\n",
       "    <tr style=\"text-align: right;\">\n",
       "      <th></th>\n",
       "      <th>Riddle</th>\n",
       "      <th>Correct Answer:</th>\n",
       "      <th>Gemma1B Answer</th>\n",
       "      <th>Gemma1 Correct(Yes/No)</th>\n",
       "      <th>Gemma4B Answer</th>\n",
       "      <th>Gemma4 Correct(Yes/No)</th>\n",
       "      <th>Llama 1B Answer</th>\n",
       "      <th>Llama3.2 Correct(Yes/No)</th>\n",
       "      <th>Llama 8B Answer</th>\n",
       "      <th>Llama3.1 Correct(Yes/No)</th>\n",
       "      <th>Deepseek 1.5B Answer</th>\n",
       "      <th>DeepSeek 1.5 Correct (Yes/No)</th>\n",
       "      <th>Deepseek 8B Answer</th>\n",
       "      <th>Deepseek8  Correct(Yes/No)</th>\n",
       "    </tr>\n",
       "  </thead>\n",
       "  <tbody>\n",
       "    <tr>\n",
       "      <th>0</th>\n",
       "      <td>\"Here comes a perfectly valid argument: First ...</td>\n",
       "      <td>invalid</td>\n",
       "      <td>**Invalid**\\n\\n**Explanation:**\\n\\nThe argumen...</td>\n",
       "      <td>Yes</td>\n",
       "      <td>**Valid**\\n\\nHere's why:\\n\\nThis argument foll...</td>\n",
       "      <td>No</td>\n",
       "      <td>To determine if the argument is deductively va...</td>\n",
       "      <td>No</td>\n",
       "      <td>The correct answer is:\\n\\nvalid \\n\\nExplanatio...</td>\n",
       "      <td>No</td>\n",
       "      <td>&lt;think&gt;\\nOkay, let me try to figure out if thi...</td>\n",
       "      <td>Yes</td>\n",
       "      <td>&lt;think&gt;\\nOkay, so I have this logic problem he...</td>\n",
       "      <td>Yes</td>\n",
       "    </tr>\n",
       "    <tr>\n",
       "      <th>1</th>\n",
       "      <td>\"Here comes a perfectly valid argument: First,...</td>\n",
       "      <td>invalid</td>\n",
       "      <td>**Valid**\\n\\n**Explanation:**\\n\\nThe argument ...</td>\n",
       "      <td>No</td>\n",
       "      <td>**Valid**\\n\\n**Explanation:**\\n\\nThis is a cla...</td>\n",
       "      <td>No</td>\n",
       "      <td>To determine if the argument is deductively va...</td>\n",
       "      <td>No</td>\n",
       "      <td>The correct option is (a):valid</td>\n",
       "      <td>No</td>\n",
       "      <td>&lt;think&gt;\\nOkay, so I need to figure out whether...</td>\n",
       "      <td>Yes</td>\n",
       "      <td>&lt;think&gt;\\nOkay, so I have this logic problem to...</td>\n",
       "      <td>Yes</td>\n",
       "    </tr>\n",
       "    <tr>\n",
       "      <th>2</th>\n",
       "      <td>\"It is not always easy to see which chemicals ...</td>\n",
       "      <td>invalid</td>\n",
       "      <td>Invalid\\n\\n**Explanation:**\\n\\nThe argument‚Äô...</td>\n",
       "      <td>Yes</td>\n",
       "      <td>The argument is **valid**.\\n\\nHere's a breakdo...</td>\n",
       "      <td>No</td>\n",
       "      <td>Let's analyze the argument:\\n\\nPremise 1: Vita...</td>\n",
       "      <td>No</td>\n",
       "      <td>The correct answer is:\\n\\n- valid\\n\\nHere's wh...</td>\n",
       "      <td>No</td>\n",
       "      <td>&lt;think&gt;\\nOkay, so I'm trying to figure out whe...</td>\n",
       "      <td>Yes</td>\n",
       "      <td>&lt;think&gt;\\nAlright, let's try to figure out if t...</td>\n",
       "      <td>No</td>\n",
       "    </tr>\n",
       "    <tr>\n",
       "      <th>3</th>\n",
       "      <td>\"Some football fans admire various clubs, othe...</td>\n",
       "      <td>valid</td>\n",
       "      <td>**Invalid**\\n\\nHere's why:\\n\\nThe argument rel...</td>\n",
       "      <td>No</td>\n",
       "      <td>ERROR</td>\n",
       "      <td>Ambiguous</td>\n",
       "      <td>To determine if the argument is deductively va...</td>\n",
       "      <td>No</td>\n",
       "      <td>The correct answer is:\\n\\nvalid \\n\\nHere's why...</td>\n",
       "      <td>Yes</td>\n",
       "      <td>&lt;think&gt;\\nAlright, so I've got this logic probl...</td>\n",
       "      <td>Yes</td>\n",
       "      <td>&lt;think&gt;\\nOkay, so I have this logic problem he...</td>\n",
       "      <td>Yes</td>\n",
       "    </tr>\n",
       "    <tr>\n",
       "      <th>4</th>\n",
       "      <td>\"Some football fans admire various clubs, othe...</td>\n",
       "      <td>invalid</td>\n",
       "      <td>Let's analyze the argument's validity.\\n\\n**Un...</td>\n",
       "      <td>Yes</td>\n",
       "      <td>**Valid**\\n\\nHere's why:\\n\\n* **Structure:** T...</td>\n",
       "      <td>No</td>\n",
       "      <td>To determine if the argument is deductively va...</td>\n",
       "      <td>No</td>\n",
       "      <td>The correct answer is:\\n\\nvalid \\n\\nHere's why...</td>\n",
       "      <td>No</td>\n",
       "      <td>&lt;think&gt;\\nOkay, so I'm trying to figure out whe...</td>\n",
       "      <td>Yes</td>\n",
       "      <td>&lt;think&gt;\\nOkay, so I have this logic problem ab...</td>\n",
       "      <td>Yes</td>\n",
       "    </tr>\n",
       "  </tbody>\n",
       "</table>\n",
       "</div>"
      ],
      "text/plain": [
       "                                              Riddle Correct Answer:  \\\n",
       "0  \"Here comes a perfectly valid argument: First ...         invalid   \n",
       "1  \"Here comes a perfectly valid argument: First,...         invalid   \n",
       "2  \"It is not always easy to see which chemicals ...         invalid   \n",
       "3  \"Some football fans admire various clubs, othe...           valid   \n",
       "4  \"Some football fans admire various clubs, othe...         invalid   \n",
       "\n",
       "                                      Gemma1B Answer Gemma1 Correct(Yes/No)  \\\n",
       "0  **Invalid**\\n\\n**Explanation:**\\n\\nThe argumen...                    Yes   \n",
       "1  **Valid**\\n\\n**Explanation:**\\n\\nThe argument ...                     No   \n",
       "2  Invalid\\n\\n**Explanation:**\\n\\nThe argument‚Äô...                    Yes   \n",
       "3  **Invalid**\\n\\nHere's why:\\n\\nThe argument rel...                     No   \n",
       "4  Let's analyze the argument's validity.\\n\\n**Un...                    Yes   \n",
       "\n",
       "                                      Gemma4B Answer Gemma4 Correct(Yes/No)  \\\n",
       "0  **Valid**\\n\\nHere's why:\\n\\nThis argument foll...                     No   \n",
       "1  **Valid**\\n\\n**Explanation:**\\n\\nThis is a cla...                     No   \n",
       "2  The argument is **valid**.\\n\\nHere's a breakdo...                     No   \n",
       "3                                              ERROR              Ambiguous   \n",
       "4  **Valid**\\n\\nHere's why:\\n\\n* **Structure:** T...                     No   \n",
       "\n",
       "                                     Llama 1B Answer Llama3.2 Correct(Yes/No)  \\\n",
       "0  To determine if the argument is deductively va...                       No   \n",
       "1  To determine if the argument is deductively va...                       No   \n",
       "2  Let's analyze the argument:\\n\\nPremise 1: Vita...                       No   \n",
       "3  To determine if the argument is deductively va...                       No   \n",
       "4  To determine if the argument is deductively va...                       No   \n",
       "\n",
       "                                     Llama 8B Answer Llama3.1 Correct(Yes/No)  \\\n",
       "0  The correct answer is:\\n\\nvalid \\n\\nExplanatio...                       No   \n",
       "1                    The correct option is (a):valid                       No   \n",
       "2  The correct answer is:\\n\\n- valid\\n\\nHere's wh...                       No   \n",
       "3  The correct answer is:\\n\\nvalid \\n\\nHere's why...                      Yes   \n",
       "4  The correct answer is:\\n\\nvalid \\n\\nHere's why...                       No   \n",
       "\n",
       "                                Deepseek 1.5B Answer  \\\n",
       "0  <think>\\nOkay, let me try to figure out if thi...   \n",
       "1  <think>\\nOkay, so I need to figure out whether...   \n",
       "2  <think>\\nOkay, so I'm trying to figure out whe...   \n",
       "3  <think>\\nAlright, so I've got this logic probl...   \n",
       "4  <think>\\nOkay, so I'm trying to figure out whe...   \n",
       "\n",
       "  DeepSeek 1.5 Correct (Yes/No)  \\\n",
       "0                           Yes   \n",
       "1                           Yes   \n",
       "2                           Yes   \n",
       "3                           Yes   \n",
       "4                           Yes   \n",
       "\n",
       "                                  Deepseek 8B Answer  \\\n",
       "0  <think>\\nOkay, so I have this logic problem he...   \n",
       "1  <think>\\nOkay, so I have this logic problem to...   \n",
       "2  <think>\\nAlright, let's try to figure out if t...   \n",
       "3  <think>\\nOkay, so I have this logic problem he...   \n",
       "4  <think>\\nOkay, so I have this logic problem ab...   \n",
       "\n",
       "  Deepseek8  Correct(Yes/No)  \n",
       "0                        Yes  \n",
       "1                        Yes  \n",
       "2                         No  \n",
       "3                        Yes  \n",
       "4                       Yes   "
      ]
     },
     "execution_count": 51,
     "metadata": {},
     "output_type": "execute_result"
    }
   ],
   "source": [
    "df1=pd.read_excel('LLM Responses.xlsx',sheet_name='Fallacy')\n",
    "df1.head()"
   ]
  },
  {
   "cell_type": "code",
   "execution_count": 11,
   "id": "2ced2a42-d4f7-4cec-8684-02a631a194fc",
   "metadata": {},
   "outputs": [
    {
     "data": {
      "text/html": [
       "<div>\n",
       "<style scoped>\n",
       "    .dataframe tbody tr th:only-of-type {\n",
       "        vertical-align: middle;\n",
       "    }\n",
       "\n",
       "    .dataframe tbody tr th {\n",
       "        vertical-align: top;\n",
       "    }\n",
       "\n",
       "    .dataframe thead th {\n",
       "        text-align: right;\n",
       "    }\n",
       "</style>\n",
       "<table border=\"1\" class=\"dataframe\">\n",
       "  <thead>\n",
       "    <tr style=\"text-align: right;\">\n",
       "      <th></th>\n",
       "      <th>Correct Answer:</th>\n",
       "    </tr>\n",
       "  </thead>\n",
       "  <tbody>\n",
       "    <tr>\n",
       "      <th>count</th>\n",
       "      <td>250.000000</td>\n",
       "    </tr>\n",
       "    <tr>\n",
       "      <th>mean</th>\n",
       "      <td>8.268000</td>\n",
       "    </tr>\n",
       "    <tr>\n",
       "      <th>std</th>\n",
       "      <td>4.123127</td>\n",
       "    </tr>\n",
       "    <tr>\n",
       "      <th>min</th>\n",
       "      <td>2.000000</td>\n",
       "    </tr>\n",
       "    <tr>\n",
       "      <th>25%</th>\n",
       "      <td>5.000000</td>\n",
       "    </tr>\n",
       "    <tr>\n",
       "      <th>50%</th>\n",
       "      <td>8.000000</td>\n",
       "    </tr>\n",
       "    <tr>\n",
       "      <th>75%</th>\n",
       "      <td>11.000000</td>\n",
       "    </tr>\n",
       "    <tr>\n",
       "      <th>max</th>\n",
       "      <td>18.000000</td>\n",
       "    </tr>\n",
       "  </tbody>\n",
       "</table>\n",
       "</div>"
      ],
      "text/plain": [
       "       Correct Answer:\n",
       "count       250.000000\n",
       "mean          8.268000\n",
       "std           4.123127\n",
       "min           2.000000\n",
       "25%           5.000000\n",
       "50%           8.000000\n",
       "75%          11.000000\n",
       "max          18.000000"
      ]
     },
     "execution_count": 11,
     "metadata": {},
     "output_type": "execute_result"
    }
   ],
   "source": [
    "df.describe()"
   ]
  },
  {
   "cell_type": "code",
   "execution_count": 13,
   "id": "08d5a2bb-bbe4-4c01-84f1-a33e7a4c3765",
   "metadata": {},
   "outputs": [
    {
     "data": {
      "text/plain": [
       "Object Counting question         250\n",
       "Correct Answer:                  250\n",
       "Deepseek1.5 Answer               250\n",
       "DeepSeek 1.5 Correct (Yes/No)    250\n",
       "Deepseek8 Answer                 250\n",
       "Deepseek8  Correct(Yes/No)       250\n",
       "Gemma1 Answer                    250\n",
       "Gemma1 Correct(Yes/No)           250\n",
       "Gemma4 Answer                    250\n",
       "Gemma4 Correct(Yes/No)           250\n",
       "Llama3.2 Answer                  250\n",
       "Llama3.2 Correct(Yes/No)         250\n",
       "Llama3.1 Answer                  250\n",
       "Llama3.1 Correct(Yes/No)         250\n",
       "dtype: int64"
      ]
     },
     "execution_count": 13,
     "metadata": {},
     "output_type": "execute_result"
    }
   ],
   "source": [
    "df.count()"
   ]
  },
  {
   "cell_type": "code",
   "execution_count": 17,
   "id": "a2a3f4e4-54f1-4ef7-90d3-179150de0815",
   "metadata": {},
   "outputs": [
    {
     "data": {
      "text/plain": [
       "Object Counting question         0\n",
       "Correct Answer:                  0\n",
       "Deepseek1.5 Answer               0\n",
       "DeepSeek 1.5 Correct (Yes/No)    0\n",
       "Deepseek8 Answer                 0\n",
       "Deepseek8  Correct(Yes/No)       0\n",
       "Gemma1 Answer                    0\n",
       "Gemma1 Correct(Yes/No)           0\n",
       "Gemma4 Answer                    0\n",
       "Gemma4 Correct(Yes/No)           0\n",
       "Llama3.2 Answer                  0\n",
       "Llama3.2 Correct(Yes/No)         0\n",
       "Llama3.1 Answer                  0\n",
       "Llama3.1 Correct(Yes/No)         0\n",
       "dtype: int64"
      ]
     },
     "execution_count": 17,
     "metadata": {},
     "output_type": "execute_result"
    }
   ],
   "source": [
    "df.isnull().sum(axis=0)"
   ]
  },
  {
   "cell_type": "code",
   "execution_count": 53,
   "id": "4f5a5596-f3ae-4e4b-8424-43910bb1f6a7",
   "metadata": {},
   "outputs": [
    {
     "data": {
      "text/plain": [
       "Riddle                           0\n",
       "Correct Answer:                  0\n",
       "Gemma1B Answer                   0\n",
       "Gemma1 Correct(Yes/No)           0\n",
       "Gemma4B Answer                   0\n",
       "Gemma4 Correct(Yes/No)           0\n",
       "Llama 1B Answer                  0\n",
       "Llama3.2 Correct(Yes/No)         0\n",
       "Llama 8B Answer                  0\n",
       "Llama3.1 Correct(Yes/No)         0\n",
       "Deepseek 1.5B Answer             0\n",
       "DeepSeek 1.5 Correct (Yes/No)    0\n",
       "Deepseek 8B Answer               0\n",
       "Deepseek8  Correct(Yes/No)       0\n",
       "dtype: int64"
      ]
     },
     "execution_count": 53,
     "metadata": {},
     "output_type": "execute_result"
    }
   ],
   "source": [
    "df1.isnull().sum(axis=0)"
   ]
  },
  {
   "cell_type": "code",
   "execution_count": 19,
   "id": "915c4ff4-b645-4343-8234-d7959cec83a8",
   "metadata": {},
   "outputs": [
    {
     "data": {
      "text/plain": [
       "Gemma1 Correct(Yes/No)\n",
       "Yes          152\n",
       "No            97\n",
       "Ambiguous      1\n",
       "Name: count, dtype: int64"
      ]
     },
     "execution_count": 19,
     "metadata": {},
     "output_type": "execute_result"
    }
   ],
   "source": [
    "df['Gemma1 Correct(Yes/No)'].value_counts()"
   ]
  },
  {
   "cell_type": "code",
   "execution_count": 21,
   "id": "f4681032-86bd-4e9a-ad11-bafa0a58af7a",
   "metadata": {},
   "outputs": [
    {
     "data": {
      "text/plain": [
       "Gemma4 Correct(Yes/No)\n",
       "Yes          184\n",
       "No            65\n",
       "Ambiguous      1\n",
       "Name: count, dtype: int64"
      ]
     },
     "execution_count": 21,
     "metadata": {},
     "output_type": "execute_result"
    }
   ],
   "source": [
    "df['Gemma4 Correct(Yes/No)'].value_counts()"
   ]
  },
  {
   "cell_type": "code",
   "execution_count": 23,
   "id": "3b7ef5ed-c715-4081-af16-cfa5f4f2662f",
   "metadata": {},
   "outputs": [
    {
     "data": {
      "text/plain": [
       "Llama3.2 Correct(Yes/No)\n",
       "No     150\n",
       "Yes    100\n",
       "Name: count, dtype: int64"
      ]
     },
     "execution_count": 23,
     "metadata": {},
     "output_type": "execute_result"
    }
   ],
   "source": [
    "df['Llama3.2 Correct(Yes/No)'].value_counts()"
   ]
  },
  {
   "cell_type": "code",
   "execution_count": 25,
   "id": "09648e87-9bd4-41c2-a00b-6e180c901570",
   "metadata": {},
   "outputs": [
    {
     "data": {
      "text/plain": [
       "Llama3.1 Correct(Yes/No)\n",
       "No           132\n",
       "Yes          116\n",
       "Ambiguous      2\n",
       "Name: count, dtype: int64"
      ]
     },
     "execution_count": 25,
     "metadata": {},
     "output_type": "execute_result"
    }
   ],
   "source": [
    "df['Llama3.1 Correct(Yes/No)'].value_counts()"
   ]
  },
  {
   "cell_type": "code",
   "execution_count": 27,
   "id": "56cf191b-511b-4b81-9435-1612b909e237",
   "metadata": {},
   "outputs": [
    {
     "data": {
      "text/plain": [
       "DeepSeek 1.5 Correct (Yes/No)\n",
       "Yes          126\n",
       "No           121\n",
       "Ambiguous      3\n",
       "Name: count, dtype: int64"
      ]
     },
     "execution_count": 27,
     "metadata": {},
     "output_type": "execute_result"
    }
   ],
   "source": [
    "df['DeepSeek 1.5 Correct (Yes/No)'].value_counts()"
   ]
  },
  {
   "cell_type": "code",
   "execution_count": 31,
   "id": "f415533c-d5cd-4c43-b050-5f03095fbf69",
   "metadata": {},
   "outputs": [
    {
     "data": {
      "text/plain": [
       "Deepseek8  Correct(Yes/No)\n",
       "Yes    169\n",
       "No      81\n",
       "Name: count, dtype: int64"
      ]
     },
     "execution_count": 31,
     "metadata": {},
     "output_type": "execute_result"
    }
   ],
   "source": [
    "df['Deepseek8  Correct(Yes/No)'].value_counts()"
   ]
  },
  {
   "cell_type": "code",
   "execution_count": 55,
   "id": "c4542f63-6d69-4e45-8dcb-87435f1d4cc0",
   "metadata": {},
   "outputs": [
    {
     "data": {
      "text/plain": [
       "Gemma1 Correct(Yes/No)\n",
       "Yes    31\n",
       "No     19\n",
       "Name: count, dtype: int64"
      ]
     },
     "execution_count": 55,
     "metadata": {},
     "output_type": "execute_result"
    }
   ],
   "source": [
    "df1['Gemma1 Correct(Yes/No)'].value_counts()"
   ]
  },
  {
   "cell_type": "code",
   "execution_count": 57,
   "id": "004bedd8-558a-40dc-9d86-138c326572e2",
   "metadata": {},
   "outputs": [
    {
     "data": {
      "text/plain": [
       "Gemma4 Correct(Yes/No)\n",
       "No           26\n",
       "Yes          22\n",
       "Ambiguous     1\n",
       "yes           1\n",
       "Name: count, dtype: int64"
      ]
     },
     "execution_count": 57,
     "metadata": {},
     "output_type": "execute_result"
    }
   ],
   "source": [
    "df1['Gemma4 Correct(Yes/No)'].value_counts()"
   ]
  },
  {
   "cell_type": "code",
   "execution_count": 59,
   "id": "56eda346-9f24-4cb4-9c54-4fa2f17e5307",
   "metadata": {},
   "outputs": [
    {
     "data": {
      "text/plain": [
       "Llama3.2 Correct(Yes/No)\n",
       "Yes          26\n",
       "No           20\n",
       "Ambiguous     3\n",
       "no            1\n",
       "Name: count, dtype: int64"
      ]
     },
     "execution_count": 59,
     "metadata": {},
     "output_type": "execute_result"
    }
   ],
   "source": [
    "df1['Llama3.2 Correct(Yes/No)'].value_counts()"
   ]
  },
  {
   "cell_type": "code",
   "execution_count": 61,
   "id": "7875bb80-cfe7-43b6-8ff2-0bed714ac296",
   "metadata": {},
   "outputs": [
    {
     "data": {
      "text/plain": [
       "Llama3.1 Correct(Yes/No)\n",
       "No     26\n",
       "Yes    24\n",
       "Name: count, dtype: int64"
      ]
     },
     "execution_count": 61,
     "metadata": {},
     "output_type": "execute_result"
    }
   ],
   "source": [
    "df1['Llama3.1 Correct(Yes/No)'].value_counts()"
   ]
  },
  {
   "cell_type": "code",
   "execution_count": 63,
   "id": "f2321c95-294e-4e82-a732-901dd7297725",
   "metadata": {},
   "outputs": [
    {
     "data": {
      "text/plain": [
       "Llama3.2 Correct(Yes/No)\n",
       "Yes          26\n",
       "No           20\n",
       "Ambiguous     3\n",
       "no            1\n",
       "Name: count, dtype: int64"
      ]
     },
     "execution_count": 63,
     "metadata": {},
     "output_type": "execute_result"
    }
   ],
   "source": [
    "df1['Llama3.2 Correct(Yes/No)'].value_counts()"
   ]
  },
  {
   "cell_type": "code",
   "execution_count": 65,
   "id": "58d4baee-404d-469a-9591-828afcf8777f",
   "metadata": {},
   "outputs": [
    {
     "data": {
      "text/plain": [
       "DeepSeek 1.5 Correct (Yes/No)\n",
       "Yes          28\n",
       "Ambiguous    11\n",
       "No           10\n",
       "yes           1\n",
       "Name: count, dtype: int64"
      ]
     },
     "execution_count": 65,
     "metadata": {},
     "output_type": "execute_result"
    }
   ],
   "source": [
    "df1['DeepSeek 1.5 Correct (Yes/No)'].value_counts()"
   ]
  },
  {
   "cell_type": "code",
   "execution_count": 67,
   "id": "6f3be669-71f8-4801-92e7-dd31e2da3609",
   "metadata": {},
   "outputs": [
    {
     "data": {
      "text/plain": [
       "Deepseek8  Correct(Yes/No)\n",
       "Yes          25\n",
       "Ambiguous    19\n",
       "No            5\n",
       "Yes           1\n",
       "Name: count, dtype: int64"
      ]
     },
     "execution_count": 67,
     "metadata": {},
     "output_type": "execute_result"
    }
   ],
   "source": [
    "df1['Deepseek8  Correct(Yes/No)'].value_counts()"
   ]
  },
  {
   "cell_type": "code",
   "execution_count": null,
   "id": "85bbe4d4-27a2-40c0-ba44-593207b078ce",
   "metadata": {},
   "outputs": [],
   "source": []
  }
 ],
 "metadata": {
  "kernelspec": {
   "display_name": "Python [conda env:base] *",
   "language": "python",
   "name": "conda-base-py"
  },
  "language_info": {
   "codemirror_mode": {
    "name": "ipython",
    "version": 3
   },
   "file_extension": ".py",
   "mimetype": "text/x-python",
   "name": "python",
   "nbconvert_exporter": "python",
   "pygments_lexer": "ipython3",
   "version": "3.12.7"
  }
 },
 "nbformat": 4,
 "nbformat_minor": 5
}
